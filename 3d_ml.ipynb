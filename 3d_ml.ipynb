{
 "cells": [
  {
   "cell_type": "markdown",
   "id": "e59981d2-dfc2-4d79-9bef-36c9ed21441a",
   "metadata": {},
   "source": [
    "# Predictive Modeling of FDM 3D-Printing Parameters and Performance Metrics"
   ]
  },
  {
   "cell_type": "markdown",
   "id": "9ad11de1-cd3c-4f4e-83a0-01dc60fc3864",
   "metadata": {},
   "source": [
    "### Introduction"
   ]
  },
  {
   "cell_type": "markdown",
   "id": "d20a27d9-809a-4590-bf53-e03c87948def",
   "metadata": {},
   "source": [
    "In this notebook, we transition from exploratory analysis to constructing and evaluating a suite of predictive models for our 3D printing dataset.  Using the same mechanical (e.g., layer height, wall thickness, and infill pattern) and thermal (e.g., nozzle/bed temperature and fan speed) process settings we will:  \n",
    "1. Establish simple, constant baselines.\n",
    "2. Train and compare three core regressors—Linear Regression, Random Forest, and XGBoost—using a standardized preprocessing pipeline and 5-fold cross-validation.\n",
    "3. Combine their out-of-fold (OOF) predictions into a hill climbing ensemble.\n",
    "\n",
    "This framework lays the groundwork for robust, deployable ML models for real-time print quality prediction and process optimization.\n",
    "\n",
    "- Dataset source: https://www.kaggle.com/datasets/afumetto/3dprinter?select=data.csv"
   ]
  },
  {
   "cell_type": "markdown",
   "id": "46009398-4edb-4d94-9866-e9f1e225a9a9",
   "metadata": {},
   "source": [
    "### Load the dataset"
   ]
  },
  {
   "cell_type": "code",
   "execution_count": 1,
   "id": "a94d1dfd-5c01-417e-b995-6f61d6d2e893",
   "metadata": {
    "jupyter": {
     "source_hidden": true
    }
   },
   "outputs": [
    {
     "name": "stdout",
     "output_type": "stream",
     "text": [
      "Shape: (50, 12).\n"
     ]
    },
    {
     "data": {
      "text/html": [
       "<div>\n",
       "<style scoped>\n",
       "    .dataframe tbody tr th:only-of-type {\n",
       "        vertical-align: middle;\n",
       "    }\n",
       "\n",
       "    .dataframe tbody tr th {\n",
       "        vertical-align: top;\n",
       "    }\n",
       "\n",
       "    .dataframe thead th {\n",
       "        text-align: right;\n",
       "    }\n",
       "</style>\n",
       "<table border=\"1\" class=\"dataframe\">\n",
       "  <thead>\n",
       "    <tr style=\"text-align: right;\">\n",
       "      <th></th>\n",
       "      <th>layer_height</th>\n",
       "      <th>wall_thickness</th>\n",
       "      <th>infill_density</th>\n",
       "      <th>infill_pattern</th>\n",
       "      <th>nozzle_temperature</th>\n",
       "      <th>bed_temperature</th>\n",
       "      <th>print_speed</th>\n",
       "      <th>material</th>\n",
       "      <th>fan_speed</th>\n",
       "      <th>roughness</th>\n",
       "      <th>tension_strenght</th>\n",
       "      <th>elongation</th>\n",
       "    </tr>\n",
       "  </thead>\n",
       "  <tbody>\n",
       "    <tr>\n",
       "      <th>0</th>\n",
       "      <td>0.02</td>\n",
       "      <td>8</td>\n",
       "      <td>90</td>\n",
       "      <td>grid</td>\n",
       "      <td>220</td>\n",
       "      <td>60</td>\n",
       "      <td>40</td>\n",
       "      <td>abs</td>\n",
       "      <td>0</td>\n",
       "      <td>25</td>\n",
       "      <td>18</td>\n",
       "      <td>1.2</td>\n",
       "    </tr>\n",
       "    <tr>\n",
       "      <th>1</th>\n",
       "      <td>0.02</td>\n",
       "      <td>7</td>\n",
       "      <td>90</td>\n",
       "      <td>honeycomb</td>\n",
       "      <td>225</td>\n",
       "      <td>65</td>\n",
       "      <td>40</td>\n",
       "      <td>abs</td>\n",
       "      <td>25</td>\n",
       "      <td>32</td>\n",
       "      <td>16</td>\n",
       "      <td>1.4</td>\n",
       "    </tr>\n",
       "    <tr>\n",
       "      <th>2</th>\n",
       "      <td>0.02</td>\n",
       "      <td>1</td>\n",
       "      <td>80</td>\n",
       "      <td>grid</td>\n",
       "      <td>230</td>\n",
       "      <td>70</td>\n",
       "      <td>40</td>\n",
       "      <td>abs</td>\n",
       "      <td>50</td>\n",
       "      <td>40</td>\n",
       "      <td>8</td>\n",
       "      <td>0.8</td>\n",
       "    </tr>\n",
       "    <tr>\n",
       "      <th>3</th>\n",
       "      <td>0.02</td>\n",
       "      <td>4</td>\n",
       "      <td>70</td>\n",
       "      <td>honeycomb</td>\n",
       "      <td>240</td>\n",
       "      <td>75</td>\n",
       "      <td>40</td>\n",
       "      <td>abs</td>\n",
       "      <td>75</td>\n",
       "      <td>68</td>\n",
       "      <td>10</td>\n",
       "      <td>0.5</td>\n",
       "    </tr>\n",
       "    <tr>\n",
       "      <th>4</th>\n",
       "      <td>0.02</td>\n",
       "      <td>6</td>\n",
       "      <td>90</td>\n",
       "      <td>grid</td>\n",
       "      <td>250</td>\n",
       "      <td>80</td>\n",
       "      <td>40</td>\n",
       "      <td>abs</td>\n",
       "      <td>100</td>\n",
       "      <td>92</td>\n",
       "      <td>5</td>\n",
       "      <td>0.7</td>\n",
       "    </tr>\n",
       "  </tbody>\n",
       "</table>\n",
       "</div>"
      ],
      "text/plain": [
       "   layer_height  wall_thickness  infill_density infill_pattern  \\\n",
       "0          0.02               8              90           grid   \n",
       "1          0.02               7              90      honeycomb   \n",
       "2          0.02               1              80           grid   \n",
       "3          0.02               4              70      honeycomb   \n",
       "4          0.02               6              90           grid   \n",
       "\n",
       "   nozzle_temperature  bed_temperature  print_speed material  fan_speed  \\\n",
       "0                 220               60           40      abs          0   \n",
       "1                 225               65           40      abs         25   \n",
       "2                 230               70           40      abs         50   \n",
       "3                 240               75           40      abs         75   \n",
       "4                 250               80           40      abs        100   \n",
       "\n",
       "   roughness  tension_strenght  elongation  \n",
       "0         25                18         1.2  \n",
       "1         32                16         1.4  \n",
       "2         40                 8         0.8  \n",
       "3         68                10         0.5  \n",
       "4         92                 5         0.7  "
      ]
     },
     "execution_count": 1,
     "metadata": {},
     "output_type": "execute_result"
    }
   ],
   "source": [
    "import pandas as pd\n",
    "\n",
    "\n",
    "# Load the dataset from defined path\n",
    "FILENAME = 'data.csv'\n",
    "df = pd.read_csv(FILENAME)\n",
    "\n",
    "# Inspect the data\n",
    "print(f'Shape: {df.shape}.')\n",
    "df.head()"
   ]
  },
  {
   "cell_type": "markdown",
   "id": "b57e5af0-3534-40a8-9a39-2a4fd569cbd3",
   "metadata": {},
   "source": [
    "### Standardize column names and values"
   ]
  },
  {
   "cell_type": "code",
   "execution_count": 2,
   "id": "24dc5e23-c0d6-46c3-a27e-51e3dd72452d",
   "metadata": {
    "jupyter": {
     "source_hidden": true
    }
   },
   "outputs": [],
   "source": [
    "# Ensure all columns are lower-case (as some datasets are mixed)\n",
    "for col in df:\n",
    "    df.rename(columns={col: col.lower()}, inplace=True)\n",
    "\n",
    "# Rename misspelled column\n",
    "df.rename(columns={'tension_strenght': 'tension_strength'}, inplace=True)\n",
    "\n",
    "# Capitalize material column\n",
    "df['material'] = df['material'].str.upper()"
   ]
  },
  {
   "cell_type": "markdown",
   "id": "22a04236-3d2f-4df4-a7da-ee2f213cc1cc",
   "metadata": {},
   "source": [
    "### Data preparation"
   ]
  },
  {
   "cell_type": "markdown",
   "id": "fed22187-6057-4941-a6b9-1b175d5e9cb1",
   "metadata": {},
   "source": [
    "First, we need to prepare our data by splitting between features and targets."
   ]
  },
  {
   "cell_type": "code",
   "execution_count": 3,
   "id": "ba9506e8-eead-4d0d-a798-8501b38ee32e",
   "metadata": {
    "jupyter": {
     "source_hidden": true
    }
   },
   "outputs": [],
   "source": [
    "# Define targets\n",
    "all_targets = ['roughness', 'tension_strength', 'elongation']\n",
    "target = 'elongation'\n",
    "\n",
    "# Prepare data\n",
    "X = df.drop(columns=all_targets)\n",
    "y = df[target]"
   ]
  },
  {
   "cell_type": "markdown",
   "id": "db514ca0-7914-4288-b8c4-353fe84b7483",
   "metadata": {},
   "source": [
    "Next, we establish our k-fold cross-validation splitter as well as the scoring metrics we will use for evaluating the baseline. For scoring we will use RMSE."
   ]
  },
  {
   "cell_type": "code",
   "execution_count": 4,
   "id": "b6b00b95-d971-4ec3-8218-439e0031c3e0",
   "metadata": {
    "jupyter": {
     "source_hidden": true
    }
   },
   "outputs": [],
   "source": [
    "from sklearn.model_selection import KFold\n",
    "\n",
    "\n",
    "# Fix randomness\n",
    "SEED = 42\n",
    "N_FOLD = 5\n",
    "METRIC = 'RMSE'  # 'RMSE', 'MAE'\n",
    "base_models = []\n",
    "USE_FILTER = True  # Filter for univariate relevance and redundancy\n",
    "\n",
    "# 5-fold CV splitter\n",
    "kf = KFold(n_splits=N_FOLD, shuffle=True, random_state=SEED)\n",
    "\n",
    "if METRIC not in ['RMSE', 'MAE']:\n",
    "    raise ValueError(f'Unaccounted for metric: {METRIC}.')\n",
    "\n",
    "# Create strategies and  define corresponding metric scorers\n",
    "if METRIC == 'RMSE':\n",
    "    strategy = 'mean'\n",
    "    score_metric = 'neg_root_mean_squared_error'\n",
    "elif METRIC == 'MAE':\n",
    "    strategy = 'median'\n",
    "    score_metric = 'neg_mean_absolute_error'"
   ]
  },
  {
   "cell_type": "markdown",
   "id": "5669d807-9b55-4dc5-9698-f6352faa690a",
   "metadata": {},
   "source": [
    "### Determine the Naive baseline"
   ]
  },
  {
   "cell_type": "markdown",
   "id": "4981be61-5b37-4a29-ab43-e7ad5e6c66a3",
   "metadata": {},
   "source": [
    "Scikit-learn assumes every scorer is something we want to maximize. That works great for accuracy or R^2, but for error metrics where \"better\" is smaller (e.g., RMSE and MAE) this doesn't work. To account for that we will use sklearn's \"negative\" version of the relevant scorers which effectively return the negative value of the metric for scoring purposes. We will use the mean as a constant-prediction baseline as the mean is better suited for an RMSE‐based baseline while the median is better suited for an MAE‐based baseline."
   ]
  },
  {
   "cell_type": "code",
   "execution_count": 5,
   "id": "0f29d974-d5a1-4624-b69c-f86f2d555985",
   "metadata": {
    "jupyter": {
     "source_hidden": true
    }
   },
   "outputs": [
    {
     "name": "stdout",
     "output_type": "stream",
     "text": [
      "Baseline Model:\n",
      "                      RMSE (CV) strategy\n",
      "target     model                       \n",
      "elongation Baseline   0.800207     mean\n"
     ]
    }
   ],
   "source": [
    "import numpy as np\n",
    "from sklearn.dummy import DummyRegressor\n",
    "from sklearn.model_selection import cross_val_score\n",
    "\n",
    "\n",
    "# Instantiate Dummy baseline and get negative‐RMSE scores\n",
    "baseline = DummyRegressor(strategy=strategy)\n",
    "neg_metric = cross_val_score(baseline, X, y, cv=kf, scoring=score_metric)\n",
    "\n",
    "# Build a one‐row DataFrame with a MultiIndex\n",
    "baseline_df = pd.DataFrame({f'{METRIC} (CV)': [-neg_metric.mean()], 'strategy': strategy},\n",
    "    index=pd.MultiIndex.from_tuples(\n",
    "        [(target, 'Baseline')], \n",
    "        names=['target','model']\n",
    "    )\n",
    ")\n",
    "print('Baseline Model:\\n', baseline_df)"
   ]
  },
  {
   "cell_type": "markdown",
   "id": "31afa82e-3ad6-4f51-84b8-ab5065578c7a",
   "metadata": {},
   "source": [
    "### Filter for Univariate Relevance and Redundancy"
   ]
  },
  {
   "cell_type": "markdown",
   "id": "cce07af3-2a1a-4753-90e2-27379e729da6",
   "metadata": {},
   "source": [
    "We will filter our raw feature set in two stages to improve model robustness and interpretability. First, **univariate relevance filtering** removes numeric features with low Spearman $\\rho$ and categorical features with negligble mutual information. Next, **redundancy filtering** iteratively removes multicollinear numerics based on variance-inflation factors and highly associated cateogrical pairs using bias-corrected Cramer's V. This results in a non-redundant set of inputs associated with our target for our regression models."
   ]
  },
  {
   "cell_type": "code",
   "execution_count": 6,
   "id": "0c1421cf-aa21-4a36-a8e1-5d259b57f5d2",
   "metadata": {
    "jupyter": {
     "source_hidden": true
    }
   },
   "outputs": [],
   "source": [
    "# First, build a DF for features + target (ignoring other potential targets)\n",
    "df_filt = pd.concat([X, y], axis=1)"
   ]
  },
  {
   "cell_type": "code",
   "execution_count": 7,
   "id": "14f57a2f-3748-40dd-8acd-2dd7e75b12f2",
   "metadata": {
    "jupyter": {
     "source_hidden": true
    }
   },
   "outputs": [],
   "source": [
    "from scipy.stats import spearmanr\n",
    "from sklearn.feature_selection import mutual_info_regression\n",
    "from sklearn.preprocessing import OrdinalEncoder\n",
    "\n",
    "\n",
    "def encode_cats_safe(df, cat_cols):\n",
    "    \"\"\"\n",
    "    Return a dense 2-D numpy array with:\n",
    "      • NaN  ->  literal string 'MISSING'\n",
    "      • Ordinal-encoded integers 0..n_cat-1 (−1 = unseen at test time)\n",
    "    \"\"\"\n",
    "    X_cat = df[cat_cols].fillna('MISSING')\n",
    "    enc = OrdinalEncoder(\n",
    "        handle_unknown='use_encoded_value',\n",
    "        unknown_value=-1,\n",
    "        dtype=np.int64,\n",
    "    )\n",
    "    return enc.fit_transform(X_cat), enc\n",
    "\n",
    "\n",
    "def filter_relevance(df, target, spearman_tol=0.10, mi_tol=0.0):\n",
    "    \"\"\"\n",
    "    Univariate relevance filter (numeric uses ρ, categorical uses MI).\n",
    "    \"\"\"\n",
    "    y  = df[target]\n",
    "    X  = df.drop(columns=[target])\n",
    "    nums = X.select_dtypes('number').columns.tolist()\n",
    "    cats = X.select_dtypes(exclude='number').columns.tolist()\n",
    "\n",
    "    surv_num, surv_cat, dropped, mi_map = [], [], [], {}\n",
    "\n",
    "    # numeric variables use Spearman ρ\n",
    "    for col in nums:\n",
    "        ρ, _ = spearmanr(X[col], y, nan_policy='omit')\n",
    "        if np.isnan(ρ) or abs(ρ) < spearman_tol:\n",
    "            dropped.append((col, 'Relevance-Num', f'|ρ|={ρ:.3f}< {spearman_tol}'))\n",
    "        else:\n",
    "            surv_num.append(col)\n",
    "\n",
    "    # categorical variables use MI\n",
    "    if cats:\n",
    "        X_cat_enc, _ = encode_cats_safe(X, cats)\n",
    "        mi = mutual_info_regression(\n",
    "            X_cat_enc, y, discrete_features=True, random_state=0)\n",
    "        for col, m in zip(cats, mi):\n",
    "            mi_map[col] = m\n",
    "            if m <= mi_tol:\n",
    "                dropped.append((col, 'Relevance-Cat', f'MI={m:.3f}≤ {mi_tol}'))\n",
    "            else:\n",
    "                surv_cat.append(col)\n",
    "\n",
    "    return surv_num, surv_cat, dropped, mi_map\n",
    "\n",
    "\n",
    "# Filter initial features based on relevance to target if filtering\n",
    "if USE_FILTER:\n",
    "    relev_surv_num, relev_surv_cat, relev_dropped, mi_map = filter_relevance(df_filt, target, spearman_tol=0.05, mi_tol=0.0)"
   ]
  },
  {
   "cell_type": "code",
   "execution_count": 8,
   "id": "c916dc4b-6fb6-4e1a-b45b-13549c5b8337",
   "metadata": {
    "jupyter": {
     "source_hidden": true
    }
   },
   "outputs": [],
   "source": [
    "from itertools import combinations\n",
    "\n",
    "from scipy.stats import chi2_contingency\n",
    "from sklearn.impute import SimpleImputer\n",
    "from statsmodels.stats.outliers_influence import variance_inflation_factor\n",
    "\n",
    "\n",
    "def cramers_v(x: pd.Series, y: pd.Series) -> float:\n",
    "    \"\"\"Helper for bias-corrected Cramer's V.\"\"\"\n",
    "    conf = pd.crosstab(x, y)\n",
    "    chi2 = chi2_contingency(conf, correction=False)[0]\n",
    "    n = conf.values.sum()\n",
    "    phi2 = chi2 / n\n",
    "    r, k = conf.shape\n",
    "    phi2_corr = max(0, phi2 - ((k - 1)*(r - 1)) / (n - 1))\n",
    "    r_corr   = r - ((r - 1)**2) / (n - 1)\n",
    "    k_corr   = k - ((k - 1)**2) / (n - 1)\n",
    "    return np.sqrt(phi2_corr / max(1, min(r_corr - 1, k_corr - 1)))\n",
    "\n",
    "\n",
    "def prepare_vif_matrix(df, num_cols):\n",
    "    \"\"\"\n",
    "    Return numeric matrix ready for VIF:\n",
    "      • median-impute only if NaNs are present\n",
    "      • assert finite values\n",
    "    \"\"\"\n",
    "    X_num = df[num_cols]\n",
    "    if X_num.isna().any().any():\n",
    "        X_num = pd.DataFrame(\n",
    "            SimpleImputer(strategy=\"median\").fit_transform(X_num),\n",
    "            columns=num_cols, index=df.index\n",
    "        )\n",
    "\n",
    "    # optional: guard against inf\n",
    "    if np.isinf(X_num.values).any():\n",
    "        raise ValueError(\"Found ±inf in numeric data; handle before VIF.\")\n",
    "\n",
    "    return X_num\n",
    "    \n",
    "\n",
    "def filter_redundancy(df,\n",
    "                      cand_num, cand_cat,\n",
    "                      mi_map,\n",
    "                      vif_tol=5.0, cv_tol=0.80):\n",
    "    \"\"\"Redundancy filter (numeric uses VIF, categorical uses Cramer-V).\"\"\"\n",
    "    dropped = []\n",
    "\n",
    "    # ---- numeric: iterative VIF pruning ----\n",
    "    cand_num = cand_num.copy()\n",
    "    while len(cand_num) > 1:\n",
    "        X_num = prepare_vif_matrix(df, cand_num)\n",
    "        X_vif = X_num.assign(const=1.0)\n",
    "\n",
    "        # Suppress the divide‐by‐zero warning, but keep the inf values\n",
    "        with np.errstate(divide='ignore', invalid='ignore'):\n",
    "            vifs = [\n",
    "                variance_inflation_factor(X_vif.values, i)\n",
    "                for i in range(len(cand_num))\n",
    "            ]\n",
    "            \n",
    "        max_v = np.nanmax(vifs)\n",
    "        if max_v <= vif_tol:\n",
    "            break\n",
    "        drop_idx = vifs.index(max_v)\n",
    "        dropped.append((cand_num[drop_idx], 'Redundancy-Num',\n",
    "                        f'VIF={max_v:.1f}> {vif_tol}'))\n",
    "        cand_num.pop(drop_idx)\n",
    "\n",
    "    # ---- categorical: Cramer-V pruning with tie-breaker ----\n",
    "    na_ratio = df.isna().mean()\n",
    "    cardinal = df.nunique()\n",
    "\n",
    "    def choose_drop(a, b):\n",
    "        \"\"\"Return the worse of (a,b) by MI ↓, NaNs ↑, cardinality ↑, alpha ↑.\"\"\"\n",
    "        keys = ('mi', 'na', 'card', 'alpha')\n",
    "        vals_a = (mi_map.get(a, 0), na_ratio[a], cardinal[a], a)\n",
    "        vals_b = (mi_map.get(b, 0), na_ratio[b], cardinal[b], b)\n",
    "        return a if vals_a < vals_b else b  # keep the \"better\", drop the other\n",
    "\n",
    "    cand_cat = cand_cat.copy()\n",
    "    for c1, c2 in combinations(cand_cat, 2):\n",
    "        if c1 not in cand_cat or c2 not in cand_cat:\n",
    "            continue\n",
    "        v = cramers_v(df[c1], df[c2])\n",
    "        if v > cv_tol:\n",
    "            drop = choose_drop(c1, c2)\n",
    "            keep = c2 if drop == c1 else c1\n",
    "            cand_cat.remove(drop)\n",
    "            dropped.append((drop, 'Redundancy-Cat',\n",
    "                            f'V={v:.2f}> {cv_tol} vs {keep}'))\n",
    "\n",
    "    return cand_num, cand_cat, dropped\n",
    "\n",
    "\n",
    "# Filter initial features based on redundancy with one another if filtering\n",
    "if USE_FILTER:\n",
    "    final_surv_num, final_surv_cat, redun_dropped = filter_redundancy(df_filt, relev_surv_num, relev_surv_cat, mi_map)"
   ]
  },
  {
   "cell_type": "code",
   "execution_count": 9,
   "id": "ebe0fbe3-b6fc-4e06-8ee6-b877ef4e4792",
   "metadata": {
    "jupyter": {
     "source_hidden": true
    }
   },
   "outputs": [
    {
     "name": "stdout",
     "output_type": "stream",
     "text": [
      "There are a total of 7 features:\n",
      "\t#1: layer_height\n",
      "\t#2: wall_thickness\n",
      "\t#3: infill_density\n",
      "\t#4: nozzle_temperature\n",
      "\t#5: print_speed\n",
      "\t#6: fan_speed\n",
      "\t#7: material\n"
     ]
    }
   ],
   "source": [
    "# Determine surviving columns for subsequent filtering\n",
    "surv_cols = final_surv_num + final_surv_cat if USE_FILTER else list(X.columns)\n",
    "X_of_interest = X[surv_cols]\n",
    "\n",
    "# One‐hot encode the categorical survivors\n",
    "X_enc = pd.get_dummies(X_of_interest, drop_first=True)\n",
    "\n",
    "# Derive numeric vs. categorical on the filtered DataFrame\n",
    "nums = X_of_interest.select_dtypes(include='number').columns.tolist()\n",
    "cats = X_of_interest.select_dtypes(exclude='number').columns.tolist()\n",
    "assert set(nums+cats) == set(X_of_interest.columns)\n",
    "\n",
    "print(f'There are a total of {len(X_of_interest.columns)} features:')\n",
    "for i, feature in enumerate(X_of_interest.columns, start=1):\n",
    "    print(f'\\t#{i}: {feature}')"
   ]
  },
  {
   "cell_type": "markdown",
   "id": "491e2b61-b9e3-4578-95c1-ab793994c6be",
   "metadata": {},
   "source": [
    "## Linear Regression"
   ]
  },
  {
   "cell_type": "code",
   "execution_count": 10,
   "id": "a57ec227-db0f-4927-b61a-2fe77e927751",
   "metadata": {
    "jupyter": {
     "source_hidden": true
    }
   },
   "outputs": [],
   "source": [
    "def compare_baseline_and_model_metric(baseline_df, model_df, metric):\n",
    "    \"\"\"Compare a DummyRegressor baseline vs. a fitted model.\"\"\"\n",
    "    metric_col = f'{metric} (CV)'\n",
    "    model_name = model_df.reset_index()['model'][0]\n",
    "\n",
    "    # Extract the baseline series (index: target)\n",
    "    baseline_ser = (\n",
    "        baseline_df\n",
    "        .xs('Baseline', level='model')[metric_col]\n",
    "        .rename('Baseline')\n",
    "    )\n",
    "\n",
    "    # Extract the model series\n",
    "    model_ser = (\n",
    "        model_df\n",
    "        .xs(model_name, level='model')[metric_col]\n",
    "        .rename(model_name)\n",
    "    )\n",
    "\n",
    "    # Join into one DataFrame\n",
    "    comp = pd.concat([baseline_ser, model_ser], axis=1)\n",
    "\n",
    "    return comp.reset_index()"
   ]
  },
  {
   "cell_type": "code",
   "execution_count": 11,
   "id": "8e013c0e-5a0d-4384-a986-e2d4b91985ff",
   "metadata": {
    "jupyter": {
     "source_hidden": true
    }
   },
   "outputs": [
    {
     "name": "stdout",
     "output_type": "stream",
     "text": [
      "                             RMSE (CV)\n",
      "target     model                      \n",
      "elongation LinearRegression   0.479899\n"
     ]
    }
   ],
   "source": [
    "from sklearn.linear_model import LinearRegression\n",
    "\n",
    "\n",
    "# Instantiate LR and get negative‐RMSE scores\n",
    "model_name = 'LinearRegression'\n",
    "lr = LinearRegression()\n",
    "neg_metric = cross_val_score(lr, X_enc, y, cv=kf, scoring=score_metric)\n",
    "\n",
    "# Build a one‐row DataFrame with a MultiIndex\n",
    "initial_df_lr = pd.DataFrame(\n",
    "    {f'{METRIC} (CV)': [-neg_metric.mean()]},\n",
    "    index=pd.MultiIndex.from_tuples(\n",
    "        [(target, model_name)], \n",
    "        names=['target','model'],\n",
    "    )\n",
    ")\n",
    "print(initial_df_lr)"
   ]
  },
  {
   "cell_type": "code",
   "execution_count": 12,
   "id": "9a43dd4f-9b9d-476b-8090-869721f978af",
   "metadata": {
    "jupyter": {
     "source_hidden": true
    }
   },
   "outputs": [
    {
     "data": {
      "text/html": [
       "<div>\n",
       "<style scoped>\n",
       "    .dataframe tbody tr th:only-of-type {\n",
       "        vertical-align: middle;\n",
       "    }\n",
       "\n",
       "    .dataframe tbody tr th {\n",
       "        vertical-align: top;\n",
       "    }\n",
       "\n",
       "    .dataframe thead th {\n",
       "        text-align: right;\n",
       "    }\n",
       "</style>\n",
       "<table border=\"1\" class=\"dataframe\">\n",
       "  <thead>\n",
       "    <tr style=\"text-align: right;\">\n",
       "      <th></th>\n",
       "      <th>target</th>\n",
       "      <th>Baseline</th>\n",
       "      <th>LinearRegression</th>\n",
       "    </tr>\n",
       "  </thead>\n",
       "  <tbody>\n",
       "    <tr>\n",
       "      <th>0</th>\n",
       "      <td>elongation</td>\n",
       "      <td>0.8</td>\n",
       "      <td>0.48</td>\n",
       "    </tr>\n",
       "  </tbody>\n",
       "</table>\n",
       "</div>"
      ],
      "text/plain": [
       "       target  Baseline  LinearRegression\n",
       "0  elongation       0.8              0.48"
      ]
     },
     "execution_count": 12,
     "metadata": {},
     "output_type": "execute_result"
    }
   ],
   "source": [
    "# Compare baseline with linear regression model\n",
    "lr_comparison = compare_baseline_and_model_metric(baseline_df, initial_df_lr, METRIC)\n",
    "lr_comparison.round(3)"
   ]
  },
  {
   "cell_type": "code",
   "execution_count": 13,
   "id": "6df3915e-2e31-411f-be9f-69ff633d53c2",
   "metadata": {
    "jupyter": {
     "source_hidden": true
    }
   },
   "outputs": [
    {
     "name": "stdout",
     "output_type": "stream",
     "text": [
      "Appending LinearRegression to base models.\n"
     ]
    }
   ],
   "source": [
    "if METRIC not in ['RMSE', 'MAE']:\n",
    "    raise ValueError(f'Unaccounted for metric for error comparison: {METRIC}.')\n",
    "\n",
    "# Check if the new model improves on every target\n",
    "better = (lr_comparison[model_name] < lr_comparison['Baseline']).all()\n",
    "\n",
    "# Store the base LinearRegression model as it is better than the baseline\n",
    "if better:\n",
    "    print(f'Appending {model_name} to base models.')\n",
    "    base_models.append((model_name, lr))\n",
    "else:\n",
    "    print(f'{model_name} did not beat the baseline on every target.')"
   ]
  },
  {
   "cell_type": "markdown",
   "id": "509253d9-7d61-43c9-b82b-7844f1a4db33",
   "metadata": {},
   "source": [
    "## Random Forest Regression"
   ]
  },
  {
   "cell_type": "code",
   "execution_count": 14,
   "id": "902dd836-afa0-4ae5-b2d4-4ccf982cf5c3",
   "metadata": {
    "jupyter": {
     "source_hidden": true
    }
   },
   "outputs": [
    {
     "name": "stdout",
     "output_type": "stream",
     "text": [
      "                         RMSE (CV)\n",
      "target     model                  \n",
      "elongation RandomForest   0.480019\n"
     ]
    }
   ],
   "source": [
    "from sklearn.ensemble import RandomForestRegressor\n",
    "\n",
    "\n",
    "# Instantiate RF and get negative‐RMSE scores\n",
    "model_name = 'RandomForest'\n",
    "rf = RandomForestRegressor(n_estimators=100, random_state=SEED)\n",
    "neg_metric = cross_val_score(rf, X_enc, y, cv=kf, scoring=score_metric)\n",
    "\n",
    "# Build a one‐row DataFrame with a MultiIndex\n",
    "initial_df_rf = pd.DataFrame(\n",
    "    {f'{METRIC} (CV)': [-neg_metric.mean()]},\n",
    "    index=pd.MultiIndex.from_tuples(\n",
    "        [(target, model_name)], \n",
    "        names=['target','model'],\n",
    "    )\n",
    ")\n",
    "\n",
    "print(initial_df_rf)"
   ]
  },
  {
   "cell_type": "code",
   "execution_count": 15,
   "id": "dd65b230-08b9-4277-a380-76d4077dad4e",
   "metadata": {
    "jupyter": {
     "source_hidden": true
    }
   },
   "outputs": [
    {
     "data": {
      "text/html": [
       "<div>\n",
       "<style scoped>\n",
       "    .dataframe tbody tr th:only-of-type {\n",
       "        vertical-align: middle;\n",
       "    }\n",
       "\n",
       "    .dataframe tbody tr th {\n",
       "        vertical-align: top;\n",
       "    }\n",
       "\n",
       "    .dataframe thead th {\n",
       "        text-align: right;\n",
       "    }\n",
       "</style>\n",
       "<table border=\"1\" class=\"dataframe\">\n",
       "  <thead>\n",
       "    <tr style=\"text-align: right;\">\n",
       "      <th></th>\n",
       "      <th>target</th>\n",
       "      <th>Baseline</th>\n",
       "      <th>RandomForest</th>\n",
       "    </tr>\n",
       "  </thead>\n",
       "  <tbody>\n",
       "    <tr>\n",
       "      <th>0</th>\n",
       "      <td>elongation</td>\n",
       "      <td>0.8</td>\n",
       "      <td>0.48</td>\n",
       "    </tr>\n",
       "  </tbody>\n",
       "</table>\n",
       "</div>"
      ],
      "text/plain": [
       "       target  Baseline  RandomForest\n",
       "0  elongation       0.8          0.48"
      ]
     },
     "execution_count": 15,
     "metadata": {},
     "output_type": "execute_result"
    }
   ],
   "source": [
    "# Compare baseline and Random Forest regression\n",
    "rf_comparison = compare_baseline_and_model_metric(baseline_df, initial_df_rf, METRIC)\n",
    "rf_comparison.round(3)"
   ]
  },
  {
   "cell_type": "code",
   "execution_count": 16,
   "id": "ad55a3b3-17cc-47bf-9de6-f809a47dcf6a",
   "metadata": {
    "jupyter": {
     "source_hidden": true
    }
   },
   "outputs": [
    {
     "name": "stdout",
     "output_type": "stream",
     "text": [
      "Appending RandomForest to base models.\n"
     ]
    }
   ],
   "source": [
    "if METRIC not in ['RMSE', 'MAE']:\n",
    "    raise ValueError(f'Unaccounted for metric for error comparison: {METRIC}.')\n",
    "\n",
    "# Check if the new model improves on every target\n",
    "better = (rf_comparison[model_name] < rf_comparison['Baseline']).all()\n",
    "\n",
    "# Store the base RandomForest model as it is better than the baseline\n",
    "if better:\n",
    "    print(f'Appending {model_name} to base models.')\n",
    "    base_models.append((model_name, rf))\n",
    "else:\n",
    "    print(f'{model_name} did not beat the baseline on every target.')"
   ]
  },
  {
   "cell_type": "markdown",
   "id": "7f0e6fb2-9bd4-45d4-a7fb-074b96b6615f",
   "metadata": {},
   "source": [
    "## XGBoost"
   ]
  },
  {
   "cell_type": "code",
   "execution_count": 17,
   "id": "6451bbef-4268-43ba-938e-7f5a297ca01c",
   "metadata": {
    "jupyter": {
     "source_hidden": true
    }
   },
   "outputs": [
    {
     "name": "stdout",
     "output_type": "stream",
     "text": [
      "                    RMSE (CV)\n",
      "target     model             \n",
      "elongation XGBoost   0.490418\n"
     ]
    }
   ],
   "source": [
    "from xgboost import XGBRegressor\n",
    "\n",
    "\n",
    "# Instantiate RF and get negative‐RMSE scores\n",
    "model_name = 'XGBoost'\n",
    "xgb = XGBRegressor(n_estimators=100, learning_rate=0.05, random_state=SEED)\n",
    "neg_metric = cross_val_score(xgb, X_enc, y, cv=kf, scoring=score_metric)\n",
    "\n",
    "# Build a one‐row DataFrame with a MultiIndex\n",
    "initial_df_xgb = pd.DataFrame(\n",
    "    {f'{METRIC} (CV)': [-neg_metric.mean()]},\n",
    "    index=pd.MultiIndex.from_tuples(\n",
    "        [(target, model_name)], \n",
    "        names=['target','model'],\n",
    "    )\n",
    ")\n",
    "\n",
    "print(initial_df_xgb)"
   ]
  },
  {
   "cell_type": "code",
   "execution_count": 18,
   "id": "726013b1-1690-4787-ad0f-555f2ac2d7a3",
   "metadata": {
    "jupyter": {
     "source_hidden": true
    }
   },
   "outputs": [
    {
     "data": {
      "text/html": [
       "<div>\n",
       "<style scoped>\n",
       "    .dataframe tbody tr th:only-of-type {\n",
       "        vertical-align: middle;\n",
       "    }\n",
       "\n",
       "    .dataframe tbody tr th {\n",
       "        vertical-align: top;\n",
       "    }\n",
       "\n",
       "    .dataframe thead th {\n",
       "        text-align: right;\n",
       "    }\n",
       "</style>\n",
       "<table border=\"1\" class=\"dataframe\">\n",
       "  <thead>\n",
       "    <tr style=\"text-align: right;\">\n",
       "      <th></th>\n",
       "      <th>target</th>\n",
       "      <th>Baseline</th>\n",
       "      <th>XGBoost</th>\n",
       "    </tr>\n",
       "  </thead>\n",
       "  <tbody>\n",
       "    <tr>\n",
       "      <th>0</th>\n",
       "      <td>elongation</td>\n",
       "      <td>0.8</td>\n",
       "      <td>0.49</td>\n",
       "    </tr>\n",
       "  </tbody>\n",
       "</table>\n",
       "</div>"
      ],
      "text/plain": [
       "       target  Baseline  XGBoost\n",
       "0  elongation       0.8     0.49"
      ]
     },
     "execution_count": 18,
     "metadata": {},
     "output_type": "execute_result"
    }
   ],
   "source": [
    "# Compare baseline and XGBoost regression\n",
    "xgb_comparison = compare_baseline_and_model_metric(baseline_df, initial_df_xgb, METRIC)\n",
    "xgb_comparison.round(3)"
   ]
  },
  {
   "cell_type": "code",
   "execution_count": 19,
   "id": "408ac4cd-62f0-4ec5-9e82-97f72e8c8c89",
   "metadata": {
    "jupyter": {
     "source_hidden": true
    }
   },
   "outputs": [
    {
     "name": "stdout",
     "output_type": "stream",
     "text": [
      "Appending XGBoost to base models.\n"
     ]
    }
   ],
   "source": [
    "if METRIC not in ['RMSE', 'MAE']:\n",
    "    raise ValueError(f'Unaccounted for metric for error comparison: {METRIC}.')\n",
    "\n",
    "# Check if the new model improves on every target\n",
    "better = (xgb_comparison[model_name] < xgb_comparison['Baseline']).all()\n",
    "\n",
    "# Store the base XGBoost model as it is better than the baseline\n",
    "if better:\n",
    "    print(f'Appending {model_name} to base models.')\n",
    "    base_models.append((model_name, xgb))\n",
    "else:\n",
    "    print(f'{model_name} did not beat the baseline on every target.')"
   ]
  },
  {
   "cell_type": "markdown",
   "id": "add22ad2-87d7-4514-ab20-7757d433ef32",
   "metadata": {},
   "source": [
    "## Find Best Single Model"
   ]
  },
  {
   "cell_type": "markdown",
   "id": "105db7f6-0648-4ee5-a8e4-356f43ed566c",
   "metadata": {},
   "source": [
    "Hill climbing begins with our strongest model. So first we will find the strongest model by computing the CV score for each model."
   ]
  },
  {
   "cell_type": "code",
   "execution_count": 20,
   "id": "7a701653-33ec-4539-b1d2-641fc4736880",
   "metadata": {
    "jupyter": {
     "source_hidden": true
    }
   },
   "outputs": [
    {
     "name": "stdout",
     "output_type": "stream",
     "text": [
      "We begin with best single model RMSE 0.48702 from \"LinearRegression\"\n"
     ]
    }
   ],
   "source": [
    "from sklearn.base import clone\n",
    "from sklearn.metrics import mean_squared_error\n",
    "\n",
    "\n",
    "def mae(true, preds):\n",
    "    \"\"\"Mean absolute error (MAE) computed element-wise.\"\"\"\n",
    "    return np.mean(np.abs(preds - true))\n",
    "\n",
    "def rmse(true, preds):\n",
    "    \"\"\"Root-mean squared error (RMSE) computed element-wise.\"\"\"\n",
    "    return np.sqrt(np.mean((preds - true)**2))\n",
    "\n",
    "\n",
    "# Define true and files for later use\n",
    "true = y.values\n",
    "files = [name for name, _ in base_models]\n",
    "\n",
    "n_models = len(base_models)\n",
    "n_samples = X_enc.shape[0]\n",
    "\n",
    "# Prepare an array to hold the OOF predictions\n",
    "oof_preds = np.zeros((n_samples, n_models))\n",
    "\n",
    "# Generate true OOF predictions\n",
    "for idx, (name, model) in enumerate(base_models):\n",
    "    oof = np.zeros(n_samples)\n",
    "    for train_idx, val_idx in kf.split(X_enc):\n",
    "        m = clone(model)\n",
    "        m.fit(X_enc.iloc[train_idx], y.iloc[train_idx])\n",
    "        oof[val_idx] = m.predict(X_enc.iloc[val_idx])\n",
    "    oof_preds[:, idx] = oof\n",
    "\n",
    "# Evaluate each single model’s RMSE/MAE\n",
    "if METRIC == 'RMSE':\n",
    "    scores = [rmse(true, oof_preds[:, k]) for k in range(oof_preds.shape[1])]\n",
    "elif METRIC == 'MAE':\n",
    "    scores = [mae(true, oof_preds[:, k]) for k in range(oof_preds.shape[1])]\n",
    "    \n",
    "best_index = int(np.argmin(scores))\n",
    "best_score = scores[best_index]\n",
    "print(f'We begin with best single model {METRIC} {best_score:.5f} from \"{files[best_index]}\"')"
   ]
  },
  {
   "cell_type": "markdown",
   "id": "9477711c-4727-46d1-9d8b-c8c602f93412",
   "metadata": {},
   "source": [
    "## GPU Metric Computation"
   ]
  },
  {
   "cell_type": "markdown",
   "id": "36c50639-63ac-4f71-a9d7-6a8672d95f12",
   "metadata": {},
   "source": [
    "To perform hill climbing quickly, we will compute RMSE or MAE metric in batch form on GPU. This makes a big difference when we begin to have 100s or 1000s of models in our hill climbing search."
   ]
  },
  {
   "cell_type": "code",
   "execution_count": 21,
   "id": "35159a7d-dbf3-422f-9b83-e4fe49684122",
   "metadata": {
    "jupyter": {
     "source_hidden": true
    }
   },
   "outputs": [],
   "source": [
    "import cupy as cp\n",
    "import gc\n",
    "\n",
    "\n",
    "def multiple_mae_scores(truth, preds):\n",
    "    \"\"\"GPU-accelerated vectorised MAE (preds: N × K).\"\"\"\n",
    "    if not isinstance(truth, cp.ndarray):\n",
    "        truth = cp.asarray(truth)\n",
    "    preds = cp.asarray(preds)\n",
    "    return cp.mean(cp.abs(preds - truth[:, None]), axis=0)\n",
    "\n",
    "\n",
    "def multiple_rmse_scores(truth, preds):\n",
    "    \"\"\"GPU-accelerated vectorised RMSE (preds: N × K).\"\"\"\n",
    "    if not isinstance(truth, cp.ndarray):\n",
    "        truth = cp.asarray(truth)\n",
    "    preds = cp.asarray(preds)\n",
    "    return cp.sqrt(((preds - truth[:, None])**2).mean(axis=0))"
   ]
  },
  {
   "cell_type": "markdown",
   "id": "03040082-a71c-480a-a4a1-6d54eb85b880",
   "metadata": {},
   "source": [
    "## Hill Climb"
   ]
  },
  {
   "cell_type": "markdown",
   "id": "bb8f9096-a87c-4ed3-bb9a-9ea77f01d38b",
   "metadata": {},
   "source": [
    "We will now try adding more models one by one. When a new model improves our ensemble CV score, we keep it. Otherwise, we do not add it."
   ]
  },
  {
   "cell_type": "code",
   "execution_count": 22,
   "id": "177712f8-9d76-41e7-a261-fe0275723403",
   "metadata": {
    "jupyter": {
     "source_hidden": true
    }
   },
   "outputs": [
    {
     "name": "stdout",
     "output_type": "stream",
     "text": [
      "1  New best RMSE 0.44015  adding \"XGBoost\"  weight=0.470\n",
      "2  New best RMSE 0.43728  adding \"RandomForest\"  weight=-0.290\n",
      "3  New best RMSE 0.43650  adding \"LinearRegression\"  weight=-0.140\n",
      "4  New best RMSE 0.43646  adding \"RandomForest\"  weight=-0.030\n",
      "=> reached tolerance 1e-05\n",
      "Ensemble sequence of model‐indices: [0, 2, 1, 0, 1]\n",
      "Corresponding weights: [0.47000000000000003, -0.29, -0.13999999999999999, -0.029999999999999992]\n"
     ]
    }
   ],
   "source": [
    "# Hill‐climbing parameters\n",
    "USE_NEGATIVE_WGT = True\n",
    "MAX_MODELS = 1000\n",
    "TOL = 1e-5\n",
    "\n",
    "# Move data to GPU\n",
    "x_train2 = cp.array(oof_preds)  # (n_samples, n_models)\n",
    "truth = cp.array(true)  # (n_samples,)\n",
    "best_ensemble = x_train2[:, best_index]  # Initial ensemble\n",
    "\n",
    "# Prepare weight grid\n",
    "start = -0.50 if USE_NEGATIVE_WGT else 0.01\n",
    "ww = cp.arange(start, 0.51, 0.01)  # Candidate weights\n",
    "nn = ww.size\n",
    "\n",
    "# Hill‐climbing loop\n",
    "models = [best_index]\n",
    "weights = []\n",
    "metrics = [best_score]\n",
    "indices = [best_index]\n",
    "old_best_score = best_score\n",
    "\n",
    "for kk in range(1_000_000):\n",
    "    curr_best_score = np.inf\n",
    "    curr_best_index = -1\n",
    "    curr_best_weight = 0.0\n",
    "    potential_ensemble = None\n",
    "\n",
    "    # Try adding each model k with all weights in ww\n",
    "    for k in range(x_train2.shape[1]):\n",
    "        new_model = x_train2[:, k]\n",
    "        \n",
    "        # Combine existing ensemble with new_model at all ww\n",
    "        m1 = best_ensemble[:, None] * (1 - ww)\n",
    "        m2 = new_model[:, None] * ww\n",
    "        mm = m1 + m2\n",
    "        if METRIC == 'RMSE':\n",
    "            scores_ww = multiple_rmse_scores(truth, mm)\n",
    "        elif METRIC == 'MAE':\n",
    "            scores_ww = multiple_mae_scores(truth, mm)\n",
    "        min_score = float(cp.min(scores_ww))\n",
    "        if min_score < curr_best_score:\n",
    "            curr_best_score = min_score\n",
    "            curr_best_index = k\n",
    "            idx = int(cp.argmin(scores_ww))\n",
    "            curr_best_weight = float(ww[idx])\n",
    "            potential_ensemble = mm[:, idx]\n",
    "\n",
    "        # Cleanup\n",
    "        del new_model, m1, m2, mm, scores_ww\n",
    "\n",
    "    gc.collect()\n",
    "\n",
    "    # Stopping criteria\n",
    "    indices.append(curr_best_index)\n",
    "    indices = list(np.unique(indices))\n",
    "    if len(indices) > MAX_MODELS:\n",
    "        print(f'=> reached max models {MAX_MODELS}')\n",
    "        break\n",
    "    if - (curr_best_score - old_best_score) < TOL:\n",
    "        print(f'=> reached tolerance {TOL}')\n",
    "        break\n",
    "\n",
    "    # Record and update\n",
    "    print(f'{kk+1}  New best RMSE {curr_best_score:.5f}  adding \"{files[curr_best_index]}\"  weight={curr_best_weight:.3f}')\n",
    "    models.append(curr_best_index)\n",
    "    weights.append(curr_best_weight)\n",
    "    metrics.append(curr_best_score)\n",
    "    best_ensemble = potential_ensemble\n",
    "    old_best_score = curr_best_score\n",
    "\n",
    "# Final ensemble composition\n",
    "print(f'Ensemble sequence of model‐indices: {models}')\n",
    "print(f'Corresponding weights: {weights}')"
   ]
  },
  {
   "cell_type": "markdown",
   "id": "d38d7e78-2c3d-499e-85f1-8574004321ea",
   "metadata": {},
   "source": [
    "## Compute Weights"
   ]
  },
  {
   "cell_type": "markdown",
   "id": "27d46073-5582-4397-897d-53c4254d1c70",
   "metadata": {},
   "source": [
    "The dataframe below shows us what models were selected and what weights are assigned to each model."
   ]
  },
  {
   "cell_type": "code",
   "execution_count": 23,
   "id": "25673119-1848-4ee6-a69c-4e4a5e65a101",
   "metadata": {
    "jupyter": {
     "source_hidden": true
    }
   },
   "outputs": [
    {
     "data": {
      "text/html": [
       "<div>\n",
       "<style scoped>\n",
       "    .dataframe tbody tr th:only-of-type {\n",
       "        vertical-align: middle;\n",
       "    }\n",
       "\n",
       "    .dataframe tbody tr th {\n",
       "        vertical-align: top;\n",
       "    }\n",
       "\n",
       "    .dataframe thead th {\n",
       "        text-align: right;\n",
       "    }\n",
       "</style>\n",
       "<table border=\"1\" class=\"dataframe\">\n",
       "  <thead>\n",
       "    <tr style=\"text-align: right;\">\n",
       "      <th></th>\n",
       "      <th>model</th>\n",
       "      <th>weight</th>\n",
       "    </tr>\n",
       "  </thead>\n",
       "  <tbody>\n",
       "    <tr>\n",
       "      <th>0</th>\n",
       "      <td>XGBoost</td>\n",
       "      <td>0.711917</td>\n",
       "    </tr>\n",
       "    <tr>\n",
       "      <th>1</th>\n",
       "      <td>LinearRegression</td>\n",
       "      <td>0.658601</td>\n",
       "    </tr>\n",
       "    <tr>\n",
       "      <th>2</th>\n",
       "      <td>RandomForest</td>\n",
       "      <td>-0.370518</td>\n",
       "    </tr>\n",
       "  </tbody>\n",
       "</table>\n",
       "</div>"
      ],
      "text/plain": [
       "              model    weight\n",
       "0           XGBoost  0.711917\n",
       "1  LinearRegression  0.658601\n",
       "2      RandomForest -0.370518"
      ]
     },
     "execution_count": 23,
     "metadata": {},
     "output_type": "execute_result"
    }
   ],
   "source": [
    "wgt = np.array([1])\n",
    "for w in weights:\n",
    "    wgt = wgt*(1-w)\n",
    "    wgt = np.concatenate([wgt,np.array([w])])\n",
    "    \n",
    "rows = []\n",
    "for m, w, s in zip(models, wgt, metrics):\n",
    "    name = files[m]\n",
    "    rows.append({'weight': w, 'model': name})\n",
    "\n",
    "# Display weight per model\n",
    "hill_climb_df = pd.DataFrame(rows)\n",
    "hill_climb_df = hill_climb_df.groupby('model').agg('sum').reset_index().sort_values('weight',ascending=False)\n",
    "hill_climb_df = hill_climb_df.reset_index(drop=True)\n",
    "hill_climb_df"
   ]
  },
  {
   "cell_type": "code",
   "execution_count": 24,
   "id": "2e354111-c3d0-4421-b703-504be456f038",
   "metadata": {
    "jupyter": {
     "source_hidden": true
    }
   },
   "outputs": [
    {
     "name": "stdout",
     "output_type": "stream",
     "text": [
      "Ensemble weights sum to 1.0000000000000002\n"
     ]
    }
   ],
   "source": [
    "# Sanity check\n",
    "print(f'Ensemble weights sum to {hill_climb_df.weight.sum()}')"
   ]
  },
  {
   "cell_type": "markdown",
   "id": "0f24e9c5-e16f-452e-84bd-94bdd2df0cb4",
   "metadata": {},
   "source": [
    "## Compute Overall CV Score"
   ]
  },
  {
   "cell_type": "code",
   "execution_count": 25,
   "id": "7e3d0955-d659-428a-a0a3-27dbba9d0a19",
   "metadata": {
    "jupyter": {
     "source_hidden": true
    }
   },
   "outputs": [
    {
     "name": "stdout",
     "output_type": "stream",
     "text": [
      "Overall Hill climbing RMSE = 0.436458\n"
     ]
    }
   ],
   "source": [
    "# Brind OOF preds back to NumPy from GPU\n",
    "x_train3 = x_train2.get()\n",
    "\n",
    "# Combine OOF predictions (using weights from hill climbing)\n",
    "x_map = {x:y for x, y in zip(files, np.arange(len(files)))}\n",
    "\n",
    "ensemble = x_train3[:, x_map[hill_climb_df.model.iloc[0]] ] * hill_climb_df.weight.iloc[0]\n",
    "for k in range(1,len(hill_climb_df)):\n",
    "    ensemble += x_train3[:, x_map[hill_climb_df.model.iloc[k]] ] * hill_climb_df.weight.iloc[k]\n",
    "if METRIC == 'RMSE':\n",
    "    m = rmse(true, ensemble)\n",
    "    print(f'Overall Hill climbing RMSE = {m:0.6f}')\n",
    "elif METRIC == 'MAE':\n",
    "    m = mae(true, ensemble)\n",
    "    print(f'Overall Hill climbing MAE = {m:0.6f}')\n",
    "    "
   ]
  },
  {
   "cell_type": "code",
   "execution_count": 26,
   "id": "b41324e4-a5ea-4333-9b27-ba7e85e2cf5d",
   "metadata": {
    "jupyter": {
     "source_hidden": true
    }
   },
   "outputs": [
    {
     "data": {
      "image/png": "[encoded data removed]",
      "text/plain": [
       "<Figure size 600x400 with 1 Axes>"
      ]
     },
     "metadata": {},
     "output_type": "display_data"
    }
   ],
   "source": [
    "import matplotlib.pyplot as plt\n",
    "\n",
    "\n",
    "# Recompute individual RMSEs if needed\n",
    "scores = {\n",
    "    name: np.sqrt(np.mean((true - oof_preds[:, idx])**2))\n",
    "    for idx, name in enumerate(files)\n",
    "}\n",
    "scores['Hill-Climbing\\nEnsemble'] = m\n",
    "\n",
    "df_scores = (\n",
    "    pd.Series(scores, name=METRIC)\n",
    "      .sort_values(ascending=True)  # Lowest bar = best RMSE\n",
    "      .reset_index()\n",
    "      .rename(columns={'index': 'Model'})\n",
    ")\n",
    "\n",
    "# Plot comparison\n",
    "fig, ax = plt.subplots(1, 1, figsize=(6, 4))\n",
    "ax.bar(df_scores['Model'], df_scores[METRIC], edgecolor='black')\n",
    "\n",
    "# Annotate exact values on top of each bar\n",
    "for i, v in enumerate(df_scores[METRIC]):\n",
    "    ax.text(i, v + v*0.02, f'{v:.3f}', ha='center', va='bottom', fontsize=9)\n",
    "\n",
    "ymax = 0.60  # np.ceil(df_scores[METRIC].max() * 10) / 10\n",
    "ax.set_ylim(0, ymax)\n",
    "\n",
    "ax.set_xticks(range(len(df_scores['Model'])))\n",
    "ax.set_xticklabels(df_scores['Model'], rotation=45)\n",
    "ax.set_xlabel('Model')\n",
    "ax.set_ylabel(METRIC)\n",
    "ax.set_title(f'Single-Level CV Stacking')\n",
    "\n",
    "plt.tight_layout()\n",
    "plt.show()"
   ]
  },
  {
   "cell_type": "markdown",
   "id": "df1885ea-d01e-4b9d-9f44-6b9918ed43b5",
   "metadata": {},
   "source": [
    "The problem with this approach is that by scoring on the same OOF rows that we used to fit the ensemble this is **hugely optimistic**. That is, every row influenced the hill-climber so the RMSE/MAE that is reported is an **in-sample** statistic and therefore not a real forecast of error.  \n",
    "  \n",
    "  If we had a larger dataset then we could keep a completely separate hold-out test set for the final check. Given that our dataset has 50 samples, if we keep even 20% for testing we are left with only 40 points to train three base learners *and* find ensemble weights. This will have high variance, unstable weights, and the test set itself (10 rows) is too small to give a precise estimate of performance on unseen data.  \n",
    "  \n",
    "  Given all of this, we will use nested cross-validation. We will keep an outer K-loop and inside each outer-train split we will run the full stacking/hill-climbing procedure, scoring on the outer-test split, and average across the K outer folds. This will allow every observation to act as a pure external exactly once, providing an unbiased estimate (although it will be computationally expensive)."
   ]
  },
  {
   "cell_type": "markdown",
   "id": "3473dd78-ad0b-4795-9cd7-d05f3032b3e0",
   "metadata": {},
   "source": [
    "## Predictions on Unseen Data"
   ]
  },
  {
   "cell_type": "code",
   "execution_count": 27,
   "id": "626a71a7-975f-477c-a6d6-0e9a2442d103",
   "metadata": {
    "jupyter": {
     "source_hidden": true
    }
   },
   "outputs": [
    {
     "name": "stdout",
     "output_type": "stream",
     "text": [
      "[Outer 1/5] RMSE = 0.54165\n",
      "[Outer 2/5] RMSE = 0.37390\n",
      "[Outer 3/5] RMSE = 0.51424\n",
      "[Outer 4/5] RMSE = 0.31353\n",
      "[Outer 5/5] RMSE = 0.53359\n",
      "\n",
      "Nested CV RMSE  0.45538 ± 0.10462\n"
     ]
    }
   ],
   "source": [
    "import cupy as cp\n",
    "import gc\n",
    "from sklearn.model_selection import StratifiedKFold\n",
    "\n",
    "\n",
    "def multiple_rmse_scores(truth, preds):\n",
    "    \"\"\"GPU-accelerated vectorised RMSE (preds: N × K).\"\"\"\n",
    "    if not isinstance(truth, cp.ndarray):\n",
    "        truth = cp.asarray(truth)\n",
    "    preds = cp.asarray(preds)\n",
    "    return cp.sqrt(((preds - truth[:, None]) ** 2).mean(axis=0))\n",
    "\n",
    "def multiple_mae_scores(truth, preds):\n",
    "    \"\"\"GPU-accelerated vectorised MAE (preds: N × K).\"\"\"\n",
    "    if not isinstance(truth, cp.ndarray):\n",
    "        truth = cp.asarray(truth)\n",
    "    preds = cp.asarray(preds)\n",
    "    return cp.mean(cp.abs(preds - truth[:, None]), axis=0)\n",
    "\n",
    "\n",
    "\n",
    "def hill_climb_ensemble(oof_preds, y_true,\n",
    "                        start=-0.50, stop=0.51, step=0.01,\n",
    "                        use_negative=True, max_models=1000, tol=1e-5, metric='RMSE'):\n",
    "    \"\"\"\n",
    "    Greedy hill-climber packaged as a function to be called inside each inner CV.\n",
    "    Returns (selected_indices, final_weights, best_oof_pred).\n",
    "    \"\"\"\n",
    "\n",
    "    x_train2 = cp.asarray(oof_preds)  # (n_samples, n_models)\n",
    "    truth = cp.asarray(y_true)\n",
    "    n_models = x_train2.shape[1]\n",
    "\n",
    "    # Initialise with the single best base model\n",
    "    if metric.upper() == 'RMSE':\n",
    "        base_scores = multiple_rmse_scores(truth, x_train2)\n",
    "    elif metric.upper() == 'MAE':\n",
    "        base_scores = multiple_mae_scores(truth, x_train2)\n",
    "    \n",
    "    best_index = int(cp.argmin(base_scores))\n",
    "    best_score = float(base_scores[best_index])\n",
    "    best_ensemble = x_train2[:, best_index]\n",
    "    indices = [best_index]\n",
    "    weights = []\n",
    "    metrics = [best_score]\n",
    "    old_best_score = best_score\n",
    "\n",
    "    # Candidate weight grid\n",
    "    start = start if use_negative else max(0.01, start)\n",
    "    ww = cp.arange(start, stop, step)\n",
    "\n",
    "    while True:\n",
    "        curr_best = np.inf\n",
    "        curr_idx = -1\n",
    "        curr_w = 0.0\n",
    "        candidate = None\n",
    "\n",
    "        # Search every model with every weight\n",
    "        for k in range(n_models):\n",
    "            new_model = x_train2[:, k]\n",
    "            m1 = best_ensemble[:, None] * (1 - ww)\n",
    "            m2 = new_model[:, None] * ww\n",
    "            blend = m1 + m2\n",
    "            if metric.upper() == 'RMSE':\n",
    "                scores_ww = multiple_rmse_scores(truth, blend)\n",
    "            elif metric.upper() == 'MAE':\n",
    "                scores_ww = multiple_mae_scores(truth, blend)\n",
    "            best_w_idx = int(cp.argmin(scores_ww))\n",
    "            if float(scores_ww[best_w_idx]) < curr_best:\n",
    "                curr_best = float(scores_ww[best_w_idx])\n",
    "                curr_idx = k\n",
    "                curr_w = float(ww[best_w_idx])\n",
    "                candidate = blend[:, best_w_idx]\n",
    "            del new_model, m1, m2, blend, scores_ww\n",
    "\n",
    "        gc.collect()\n",
    "\n",
    "        # Stop?\n",
    "        if (old_best_score - curr_best) < tol or len(indices) >= max_models:\n",
    "            break\n",
    "\n",
    "        # Accept\n",
    "        indices.append(curr_idx)\n",
    "        weights.append(curr_w)\n",
    "        metrics.append(curr_best)\n",
    "        best_ensemble = candidate\n",
    "        old_best_score = curr_best\n",
    "\n",
    "    # Turn sequential weights into final per-model weights\n",
    "    wgt = np.array([1.0])\n",
    "    for w in weights:\n",
    "        wgt = wgt * (1 - w)\n",
    "        wgt = np.concatenate([wgt, [w]])\n",
    "    per_model_weights = pd.Series(0.0, index=indices)\n",
    "    per_model_weights.update(pd.Series(wgt, index=indices))\n",
    "    per_model_weights = per_model_weights / per_model_weights.sum()  # Normalise\n",
    "\n",
    "    return indices, per_model_weights.values, best_ensemble.get()\n",
    "\n",
    "# Nested CV parameters\n",
    "OUTER_K = 5\n",
    "INNER_K = 4  # INNER_K < OUTER_K, typically\n",
    "outer_cv = KFold(n_splits=OUTER_K, shuffle=True, random_state=42)\n",
    "\n",
    "X_mat = X_enc.values  # numpy for speed\n",
    "y_vec = y.values\n",
    "n_samples, n_models = X_mat.shape[0], len(base_models)\n",
    "\n",
    "# Storage for pure out-of-sample predictions\n",
    "oof_all = np.empty(n_samples)  # Ensemble predictions\n",
    "oof_single = np.empty((n_samples, n_models))  # For analysis\n",
    "outer_scores = []\n",
    "\n",
    "# Outer loop\n",
    "for fold, (train_idx, test_idx) in enumerate(outer_cv.split(X_mat)):\n",
    "\n",
    "    X_tr, X_te = X_mat[train_idx], X_mat[test_idx]\n",
    "    y_tr, y_te = y_vec[train_idx], y_vec[test_idx]\n",
    "\n",
    "    # ---------- INNER CV: build OOF matrix for hill climb ----------\n",
    "    inner_cv = KFold(n_splits=INNER_K, shuffle=True, random_state=fold)\n",
    "    oof_inner = np.zeros((len(train_idx), n_models))\n",
    "\n",
    "    for m_idx, (name, model) in enumerate(base_models):\n",
    "        oof_col = np.zeros(len(train_idx))\n",
    "        for tr_in, val_in in inner_cv.split(X_tr):\n",
    "            mdl = clone(model)\n",
    "            mdl.fit(X_tr[tr_in], y_tr[tr_in])\n",
    "            oof_col[val_in] = mdl.predict(X_tr[val_in])\n",
    "        oof_inner[:, m_idx] = oof_col\n",
    "\n",
    "    # ---------- Hill climb on inner OOF ----------\n",
    "    chosen_idx, weights, _ = hill_climb_ensemble(oof_inner, y_tr, metric=METRIC)\n",
    "\n",
    "    # ---------- Re-fit chosen base models on ALL outer-train ----------\n",
    "    preds_te = np.zeros(len(test_idx))\n",
    "    for idx_m, w in zip(chosen_idx, weights):\n",
    "        name, base_model = base_models[idx_m]\n",
    "        mdl = clone(base_model)\n",
    "        mdl.fit(X_tr, y_tr)\n",
    "        preds_te += w * mdl.predict(X_te)\n",
    "\n",
    "    # ---------- Store outer-fold predictions ----------\n",
    "    oof_all[test_idx] = preds_te\n",
    "    if METRIC == 'RMSE':\n",
    "        outer_scores.append(rmse(y_te, preds_te))\n",
    "    elif METRIC == 'MAE':\n",
    "        outer_scores.append(mae(y_te, preds_te))\n",
    "\n",
    "    # Store single-model OOF preds for diagnostics\n",
    "    for m_idx, (name, model) in enumerate(base_models):\n",
    "        mdl = clone(model).fit(X_tr, y_tr)\n",
    "        oof_single[test_idx, m_idx] = mdl.predict(X_te)\n",
    "\n",
    "    print(f'[Outer {fold+1}/{OUTER_K}] {METRIC} = {outer_scores[-1]:.5f}')\n",
    "\n",
    "\n",
    "# Final report\n",
    "outer_mean = np.mean(outer_scores)\n",
    "outer_std = np.std(outer_scores, ddof=1)\n",
    "print(f'\\nNested CV {METRIC}  {outer_mean:.5f} ± {outer_std:.5f}')"
   ]
  },
  {
   "cell_type": "code",
   "execution_count": 28,
   "id": "cde9ec5c-7e88-4a53-b76c-bf904d2f678c",
   "metadata": {
    "jupyter": {
     "source_hidden": true
    }
   },
   "outputs": [
    {
     "data": {
      "image/png": "[encoded data removed]",
      "text/plain": [
       "<Figure size 600x400 with 1 Axes>"
      ]
     },
     "metadata": {},
     "output_type": "display_data"
    }
   ],
   "source": [
    "# Collect RMSEs based on pure out-of-sample predictions\n",
    "if METRIC == 'RMSE':\n",
    "    scores = {\n",
    "        name: rmse(y_vec, oof_single[:, idx])\n",
    "        for idx, (name, _) in enumerate(base_models)\n",
    "    }\n",
    "    scores['Hill-Climbing\\nEnsemble'] = rmse(y_vec, oof_all)\n",
    "elif METRIC == 'MAE':\n",
    "    scores = {\n",
    "        name: mae(y_vec, oof_single[:, idx])\n",
    "        for idx, (name, _) in enumerate(base_models)\n",
    "    }\n",
    "    scores['Hill-Climbing\\nEnsemble'] = mae(y_vec, oof_all)\n",
    "    \n",
    "df_scores = (\n",
    "    pd.Series(scores, name=METRIC)\n",
    "      .sort_values(ascending=True)  # Lowest bar = best RMSE\n",
    "      .reset_index()\n",
    "      .rename(columns={'index': 'Model'})\n",
    ")\n",
    "\n",
    "# Plot\n",
    "fig, ax = plt.subplots(figsize=(6, 4))\n",
    "ax.bar(df_scores['Model'], df_scores[METRIC], edgecolor='black')\n",
    "\n",
    "ymax = 0.60  # np.ceil(df_scores[METRIC].max() * 10) / 10\n",
    "ax.set_ylim(0, ymax)\n",
    "\n",
    "xticks = np.arange(len(df_scores))\n",
    "ax.set_xticks(xticks)\n",
    "ax.set_xticklabels(df_scores['Model'], rotation=45)\n",
    "\n",
    "ax.set_xlabel('Model')\n",
    "ax.set_ylabel(f'{METRIC} (lower is better)')\n",
    "ax.set_title(f'Nested CV Stacking')\n",
    "\n",
    "# Annotate exact values on top of each bar\n",
    "for i, v in enumerate(df_scores[METRIC]):\n",
    "    ax.text(i, v + v*0.02, f'{v:.3f}', ha='center', va='bottom', fontsize=9)\n",
    "\n",
    "plt.tight_layout()\n",
    "plt.show()"
   ]
  },
  {
   "cell_type": "markdown",
   "id": "a8030f43-2907-4aaf-9d36-0b92123edb69",
   "metadata": {},
   "source": [
    "## Conclusions"
   ]
  },
  {
   "cell_type": "markdown",
   "id": "88ba8ce6-12dc-4857-9259-4252d509c1b5",
   "metadata": {},
   "source": [
    "This study compared two evaluation strategies for a hill-climbing (level-2) regression ensemble built from three base (level-1) learners - 1) **linear regression**, 2) **Random Forest**, and 3) **XGBoost**.  \n",
    "\n",
    "  The first strategy was a single-level CV stacking. It was built using 5-fold CV to generate out-of-fold (OOF) predictions and train the ensemble. Then, the same OOF rows were used for the evaluation metric (either RMSE or MAE). The ensemble had an RMSE of 0.436 compared to 0.487 - 0.497 for the single models. This improvement, however, reflects **mild data leakage**: the ensemble’s weight search had already *seen* the noise pattern in those OOF rows, so the resulting metric is inherently optimistic.  \n",
    "\n",
    "  Replacing the initial setup with a 5x4 nested CV strategy eliminated the leakage by assigning every observation to an outer test fold that remained untouched until the very end for the tradeoff of increased computational requirements. Within this nested CV strategy, the ensemble still performs the best, recording an RMSE of 0.465 compared to the 0.487 - 0.497 for the individual models.\n",
    "\n",
    "  The first scenario did have an RMSE lower than the second strategy. This was expected, as the first scenario was inherently optimistic and exhibited data leakage. The findings of this study are two-fold: first, stacking has genuine predictive power as long as the base models are diverse. Second, the magnitude of the benefits of stacking are sensitive to evaluation leakage - nested CV (or a comparable hold-out strategy) should be considered whenever ensemble weights are tuned on the same data used for performance reporting. Additional work could look to stabilize the stack by exploring weight regularization/Bayesian averaging, expanding the library of base models, fine-tuning the hyperparameters of the base models, and ideally validating the ensemble on a truly external data set."
   ]
  }
 ],
 "metadata": {
  "kernelspec": {
   "display_name": "Python 3 (ipykernel)",
   "language": "python",
   "name": "python3"
  },
  "language_info": {
   "codemirror_mode": {
    "name": "ipython",
    "version": 3
   },
   "file_extension": ".py",
   "mimetype": "text/x-python",
   "name": "python",
   "nbconvert_exporter": "python",
   "pygments_lexer": "ipython3",
   "version": "3.10.18"
  }
 },
 "nbformat": 4,
 "nbformat_minor": 5
}
